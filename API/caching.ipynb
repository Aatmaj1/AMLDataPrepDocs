{
 "cells": [
  {
   "cell_type": "markdown",
   "metadata": {},
   "source": [
    "# Caching\n",
    "Copyright (c) Microsoft Corporation. All rights reserved.<br>\n",
    "Licensed under the MIT License."
   ]
  },
  {
   "cell_type": "markdown",
   "metadata": {},
   "source": [
    "A Dataflow can be cached into a file on disk during a local run by calling `df_cached = df.cache(directory_path)` on the Dataflow object `df`. Doing so, we will run all steps in `df` and save the cached data to the specified `directory_path`. The returned Dataflow `df_cached` has a Caching Step added at the end. Any run on Dataflow `df_cached` will reuse the cached data. And steps in `df_cached` before Caching Step will not be run again.\n",
    "\n",
    "Caching avoids running transforms multiple times, which can make local runs more efficient. Here are common places to use Caching:\n",
    "- after reading data from remote\n",
    "- after expensive transforms, such as Sort\n",
    "- after transforms that change the shape of data, such as Sampling, Filter and Summarize\n",
    "\n",
    "Caching Step will be ignored during scale-out run invoked by `to_spark_dataframe()`."
   ]
  },
  {
   "cell_type": "code",
   "execution_count": 1,
   "metadata": {},
   "outputs": [
    {
     "data": {
      "text/html": [
       "<div>\n",
       "<table border=\"1\" class=\"dataframe\">\n",
       "  <thead>\n",
       "    <tr style=\"text-align: right;\">\n",
       "      <th></th>\n",
       "      <th>stnam</th>\n",
       "      <th>fipst</th>\n",
       "      <th>leaid</th>\n",
       "      <th>leanm10</th>\n",
       "      <th>ncessch</th>\n",
       "      <th>schnam10</th>\n",
       "    </tr>\n",
       "  </thead>\n",
       "  <tbody>\n",
       "    <tr>\n",
       "      <th>0</th>\n",
       "      <td>ALABAMA</td>\n",
       "      <td>1</td>\n",
       "      <td>102100</td>\n",
       "      <td>Limestone County</td>\n",
       "      <td>10210000797</td>\n",
       "      <td>Ardmore High Sch</td>\n",
       "    </tr>\n",
       "    <tr>\n",
       "      <th>1</th>\n",
       "      <td>ALABAMA</td>\n",
       "      <td>1</td>\n",
       "      <td>101920</td>\n",
       "      <td>Jefferson County</td>\n",
       "      <td>10192000691</td>\n",
       "      <td>Brighton Middle Sch</td>\n",
       "    </tr>\n",
       "    <tr>\n",
       "      <th>2</th>\n",
       "      <td>ALABAMA</td>\n",
       "      <td>1</td>\n",
       "      <td>101920</td>\n",
       "      <td>Jefferson County</td>\n",
       "      <td>10192000720</td>\n",
       "      <td>Bryan Elem Sch</td>\n",
       "    </tr>\n",
       "    <tr>\n",
       "      <th>3</th>\n",
       "      <td>ALABAMA</td>\n",
       "      <td>1</td>\n",
       "      <td>102010</td>\n",
       "      <td>Lauderdale County</td>\n",
       "      <td>10201000766</td>\n",
       "      <td>Cloverdale Jr High Sch</td>\n",
       "    </tr>\n",
       "    <tr>\n",
       "      <th>4</th>\n",
       "      <td>ALABAMA</td>\n",
       "      <td>1</td>\n",
       "      <td>101920</td>\n",
       "      <td>Jefferson County</td>\n",
       "      <td>10192000701</td>\n",
       "      <td>Erwin Elem Sch</td>\n",
       "    </tr>\n",
       "  </tbody>\n",
       "</table>\n",
       "</div>"
      ],
      "text/plain": [
       "     stnam fipst   leaid            leanm10      ncessch  \\\n",
       "0  ALABAMA     1  102100   Limestone County  10210000797   \n",
       "1  ALABAMA     1  101920   Jefferson County  10192000691   \n",
       "2  ALABAMA     1  101920   Jefferson County  10192000720   \n",
       "3  ALABAMA     1  102010  Lauderdale County  10201000766   \n",
       "4  ALABAMA     1  101920   Jefferson County  10192000701   \n",
       "\n",
       "                 schnam10  \n",
       "0        Ardmore High Sch  \n",
       "1     Brighton Middle Sch  \n",
       "2          Bryan Elem Sch  \n",
       "3  Cloverdale Jr High Sch  \n",
       "4          Erwin Elem Sch  "
      ]
     },
     "execution_count": 1,
     "metadata": {},
     "output_type": "execute_result"
    }
   ],
   "source": [
    "# read data and apply transforms\n",
    "import azureml.dataprep as dprep\n",
    "df = dprep.read_csv(path='https://dpreptestfiles.blob.core.windows.net/testfiles/read_csv_duplicate_headers.csv')\n",
    "df = df.take_sample(probability=0.2, seed=7)\n",
    "df = df.skip(1)\n",
    "df = df.sort_asc(columns='schnam10')\n",
    "df = df.keep_columns(['stnam', 'fipst', 'leaid', 'leanm10', 'ncessch', 'schnam10'])\n",
    "df.head(5)"
   ]
  },
  {
   "cell_type": "code",
   "execution_count": 2,
   "metadata": {},
   "outputs": [
    {
     "data": {
      "text/plain": [
       "'C:\\\\DPrep\\\\target\\\\Python\\\\debug\\\\azureml-dataprep\\\\docs\\\\dataflow-cache'"
      ]
     },
     "execution_count": 2,
     "metadata": {},
     "output_type": "execute_result"
    }
   ],
   "source": [
    "# choose a directory to store cache data\n",
    "import os\n",
    "from pathlib import Path\n",
    "cache_dir = str(Path(os.getcwd(), 'dataflow-cache'))\n",
    "cache_dir"
   ]
  },
  {
   "cell_type": "code",
   "execution_count": 3,
   "metadata": {},
   "outputs": [],
   "source": [
    "# cache the dataflow\n",
    "df_cached = df.cache(directory_path=cache_dir)"
   ]
  },
  {
   "cell_type": "code",
   "execution_count": 4,
   "metadata": {},
   "outputs": [
    {
     "data": {
      "text/plain": [
       "['Microsoft.DPrep.GetFilesBlock',\n",
       " 'Microsoft.DPrep.ParseDelimitedBlock',\n",
       " 'Microsoft.DPrep.DropColumnsBlock',\n",
       " 'Microsoft.DPrep.TakeSampleBlock',\n",
       " 'Microsoft.DPrep.SkipBlock',\n",
       " 'Microsoft.DPrep.SortBlock',\n",
       " 'Microsoft.DPrep.KeepColumnsBlock',\n",
       " 'Microsoft.DPrep.CacheBlock']"
      ]
     },
     "execution_count": 4,
     "metadata": {},
     "output_type": "execute_result"
    }
   ],
   "source": [
    "# check steps in df_cached\n",
    "[s.step_type for s in df_cached.get_steps()]"
   ]
  },
  {
   "cell_type": "code",
   "execution_count": 5,
   "metadata": {},
   "outputs": [
    {
     "data": {
      "text/plain": [
       "['13652398-6e74-4e6a-91b5-dfee82fd7445',\n",
       " '3886425a-9ef5-4b0a-8745-f1103551f9b6.cacheIndex',\n",
       " '58479c05-f0ab-435b-b434-a7a89d9302d1',\n",
       " '7ecc948c-d166-4f15-ba82-7d0f0e197aa5',\n",
       " '855bd9c2-33c8-4613-925d-40269834be33.cacheIndex',\n",
       " '9e7bc988-501a-48c1-9978-10078e6bc53c.cacheIndex']"
      ]
     },
     "execution_count": 5,
     "metadata": {},
     "output_type": "execute_result"
    }
   ],
   "source": [
    "# check the stored cache data\n",
    "os.listdir(cache_dir)"
   ]
  },
  {
   "cell_type": "code",
   "execution_count": 6,
   "metadata": {},
   "outputs": [
    {
     "data": {
      "text/html": [
       "<div>\n",
       "<table border=\"1\" class=\"dataframe\">\n",
       "  <thead>\n",
       "    <tr style=\"text-align: right;\">\n",
       "      <th></th>\n",
       "      <th>stnam</th>\n",
       "      <th>fipst</th>\n",
       "      <th>leaid</th>\n",
       "      <th>leanm10</th>\n",
       "      <th>ncessch</th>\n",
       "      <th>schnam10</th>\n",
       "    </tr>\n",
       "  </thead>\n",
       "  <tbody>\n",
       "    <tr>\n",
       "      <th>0</th>\n",
       "      <td>ALABAMA</td>\n",
       "      <td>1</td>\n",
       "      <td>102100</td>\n",
       "      <td>Limestone County</td>\n",
       "      <td>10210000797</td>\n",
       "      <td>Ardmore High Sch</td>\n",
       "    </tr>\n",
       "    <tr>\n",
       "      <th>1</th>\n",
       "      <td>ALABAMA</td>\n",
       "      <td>1</td>\n",
       "      <td>101920</td>\n",
       "      <td>Jefferson County</td>\n",
       "      <td>10192000691</td>\n",
       "      <td>Brighton Middle Sch</td>\n",
       "    </tr>\n",
       "    <tr>\n",
       "      <th>2</th>\n",
       "      <td>ALABAMA</td>\n",
       "      <td>1</td>\n",
       "      <td>101920</td>\n",
       "      <td>Jefferson County</td>\n",
       "      <td>10192000720</td>\n",
       "      <td>Bryan Elem Sch</td>\n",
       "    </tr>\n",
       "    <tr>\n",
       "      <th>3</th>\n",
       "      <td>ALABAMA</td>\n",
       "      <td>1</td>\n",
       "      <td>102010</td>\n",
       "      <td>Lauderdale County</td>\n",
       "      <td>10201000766</td>\n",
       "      <td>Cloverdale Jr High Sch</td>\n",
       "    </tr>\n",
       "    <tr>\n",
       "      <th>4</th>\n",
       "      <td>ALABAMA</td>\n",
       "      <td>1</td>\n",
       "      <td>101920</td>\n",
       "      <td>Jefferson County</td>\n",
       "      <td>10192000701</td>\n",
       "      <td>Erwin Elem Sch</td>\n",
       "    </tr>\n",
       "  </tbody>\n",
       "</table>\n",
       "</div>"
      ],
      "text/plain": [
       "     stnam fipst   leaid            leanm10      ncessch  \\\n",
       "0  ALABAMA     1  102100   Limestone County  10210000797   \n",
       "1  ALABAMA     1  101920   Jefferson County  10192000691   \n",
       "2  ALABAMA     1  101920   Jefferson County  10192000720   \n",
       "3  ALABAMA     1  102010  Lauderdale County  10201000766   \n",
       "4  ALABAMA     1  101920   Jefferson County  10192000701   \n",
       "\n",
       "                 schnam10  \n",
       "0        Ardmore High Sch  \n",
       "1     Brighton Middle Sch  \n",
       "2          Bryan Elem Sch  \n",
       "3  Cloverdale Jr High Sch  \n",
       "4          Erwin Elem Sch  "
      ]
     },
     "execution_count": 6,
     "metadata": {},
     "output_type": "execute_result"
    }
   ],
   "source": [
    "# run against df_cached will reuse the cache data and skip running all the previous steps again\n",
    "df_cached.head(5)"
   ]
  },
  {
   "cell_type": "code",
   "execution_count": 7,
   "metadata": {},
   "outputs": [],
   "source": [
    "df1 = df_cached.take(10)\n",
    "df2 = df_cached.skip(10).take(10)\n",
    "\n",
    "# run against df1 and df2 will reuse the cache data as well\n",
    "dataframe1 = df1.to_pandas_dataframe()\n",
    "dataframe2 = df2.to_pandas_dataframe()"
   ]
  },
  {
   "cell_type": "code",
   "execution_count": 8,
   "metadata": {},
   "outputs": [],
   "source": [
    "# clean up cache data\n",
    "import shutil\n",
    "shutil.rmtree(path=cache_dir)"
   ]
  }
 ],
 "metadata": {
  "kernelspec": {
   "display_name": "Python 3",
   "language": "python",
   "name": "python3"
  },
  "language_info": {
   "codemirror_mode": {
    "name": "ipython",
    "version": 3
   },
   "file_extension": ".py",
   "mimetype": "text/x-python",
   "name": "python",
   "nbconvert_exporter": "python",
   "pygments_lexer": "ipython3",
   "version": "3.6.4"
  }
 },
 "nbformat": 4,
 "nbformat_minor": 2
}
