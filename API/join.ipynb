{
 "cells": [
  {
   "cell_type": "markdown",
   "metadata": {},
   "source": [
    "# Join\n",
    "Copyright (c) Microsoft Corporation. All rights reserved.<br>\n",
    "Licensed under the MIT License.<br>\n",
    "\n",
    "In DataPrep you can easily join two dataflows."
   ]
  },
  {
   "cell_type": "code",
   "execution_count": 1,
   "metadata": {},
   "outputs": [],
   "source": [
    "import azureml.dataprep as dprep\n"
   ]
  },
  {
   "cell_type": "markdown",
   "metadata": {},
   "source": [
    "First let's get the left side of the data into a shape that is ready for the join."
   ]
  },
  {
   "cell_type": "code",
   "execution_count": 2,
   "metadata": {
    "scrolled": false
   },
   "outputs": [
    {
     "data": {
      "text/html": [
       "<div>\n",
       "<table border=\"1\" class=\"dataframe\">\n",
       "  <thead>\n",
       "    <tr style=\"text-align: right;\">\n",
       "      <th></th>\n",
       "      <th>date_timerange</th>\n",
       "      <th>HOURLYDRYBULBTEMPF_Mean</th>\n",
       "    </tr>\n",
       "  </thead>\n",
       "  <tbody>\n",
       "    <tr>\n",
       "      <th>0</th>\n",
       "      <td>Jan 1, 2015 | 12AM-2AM</td>\n",
       "      <td>22.000000</td>\n",
       "    </tr>\n",
       "    <tr>\n",
       "      <th>1</th>\n",
       "      <td>Jan 1, 2015 | 2AM-4AM</td>\n",
       "      <td>23.000000</td>\n",
       "    </tr>\n",
       "    <tr>\n",
       "      <th>2</th>\n",
       "      <td>Jan 1, 2015 | 4AM-6AM</td>\n",
       "      <td>23.000000</td>\n",
       "    </tr>\n",
       "    <tr>\n",
       "      <th>3</th>\n",
       "      <td>Jan 1, 2015 | 6AM-8AM</td>\n",
       "      <td>22.666667</td>\n",
       "    </tr>\n",
       "    <tr>\n",
       "      <th>4</th>\n",
       "      <td>Jan 1, 2015 | 8AM-10AM</td>\n",
       "      <td>26.500000</td>\n",
       "    </tr>\n",
       "    <tr>\n",
       "      <th>5</th>\n",
       "      <td>Jan 1, 2015 | 10AM-12PM</td>\n",
       "      <td>29.666667</td>\n",
       "    </tr>\n",
       "    <tr>\n",
       "      <th>6</th>\n",
       "      <td>Jan 1, 2015 | 12PM-2PM</td>\n",
       "      <td>32.333333</td>\n",
       "    </tr>\n",
       "    <tr>\n",
       "      <th>7</th>\n",
       "      <td>Jan 1, 2015 | 2PM-4PM</td>\n",
       "      <td>32.000000</td>\n",
       "    </tr>\n",
       "    <tr>\n",
       "      <th>8</th>\n",
       "      <td>Jan 1, 2015 | 4PM-6PM</td>\n",
       "      <td>30.666667</td>\n",
       "    </tr>\n",
       "    <tr>\n",
       "      <th>9</th>\n",
       "      <td>Jan 1, 2015 | 6PM-8PM</td>\n",
       "      <td>30.666667</td>\n",
       "    </tr>\n",
       "  </tbody>\n",
       "</table>\n",
       "</div>"
      ],
      "text/plain": [
       "            date_timerange  HOURLYDRYBULBTEMPF_Mean\n",
       "0   Jan 1, 2015 | 12AM-2AM                22.000000\n",
       "1    Jan 1, 2015 | 2AM-4AM                23.000000\n",
       "2    Jan 1, 2015 | 4AM-6AM                23.000000\n",
       "3    Jan 1, 2015 | 6AM-8AM                22.666667\n",
       "4   Jan 1, 2015 | 8AM-10AM                26.500000\n",
       "5  Jan 1, 2015 | 10AM-12PM                29.666667\n",
       "6   Jan 1, 2015 | 12PM-2PM                32.333333\n",
       "7    Jan 1, 2015 | 2PM-4PM                32.000000\n",
       "8    Jan 1, 2015 | 4PM-6PM                30.666667\n",
       "9    Jan 1, 2015 | 6PM-8PM                30.666667"
      ]
     },
     "execution_count": 2,
     "metadata": {},
     "output_type": "execute_result"
    }
   ],
   "source": [
    "# get the first dataflow and derive desired key column\n",
    "dataflow_l = dprep.read_csv(path='https://dpreptestfiles.blob.core.windows.net/testfiles/BostonWeather.csv')\n",
    "dataflow_l = dataflow_l.derive_column_by_example(source_columns='DATE', new_column_name='date_timerange',\n",
    "                                                 example_data=[('11/11/2015 0:54', 'Nov 11, 2015 | 12AM-2AM'),\n",
    "                                                              ('2/1/2015 0:54', 'Feb 1, 2015 | 12AM-2AM'),\n",
    "                                                              ('1/29/2015 20:54', 'Jan 29, 2015 | 8PM-10PM')])\n",
    "dataflow_l = dataflow_l.drop_columns(['DATE'])\n",
    "\n",
    "# convert types and summarize data\n",
    "dataflow_l = dataflow_l.set_column_types(type_conversions={'HOURLYDRYBULBTEMPF': dprep.TypeConverter(dprep.FieldType.DECIMAL)})\n",
    "dataflow_l = dataflow_l.filter(expression=dprep.f_not(dprep.col('HOURLYDRYBULBTEMPF').is_error()))\n",
    "dataflow_l = dataflow_l.summarize(group_by_columns=['date_timerange'],summary_columns=[dprep.SummaryColumnsValue('HOURLYDRYBULBTEMPF', dprep.api.engineapi.typedefinitions.SummaryFunction.MEAN, 'HOURLYDRYBULBTEMPF_Mean')] )\n",
    "\n",
    "# cache the result so the steps above are not executed every time we pull on the data\n",
    "import os\n",
    "from pathlib import Path\n",
    "cache_dir = str(Path(os.getcwd(), 'dataflow-cache'))\n",
    "dataflow_l.cache(directory_path=cache_dir)\n",
    "dataflow_l.head(10)"
   ]
  },
  {
   "cell_type": "markdown",
   "metadata": {},
   "source": [
    "Now let's prepare the data for the right side of the join."
   ]
  },
  {
   "cell_type": "code",
   "execution_count": 3,
   "metadata": {
    "scrolled": false
   },
   "outputs": [
    {
     "data": {
      "text/html": [
       "<div>\n",
       "<table border=\"1\" class=\"dataframe\">\n",
       "  <thead>\n",
       "    <tr style=\"text-align: right;\">\n",
       "      <th></th>\n",
       "      <th>l_date_timerange</th>\n",
       "      <th>start station id</th>\n",
       "    </tr>\n",
       "  </thead>\n",
       "  <tbody>\n",
       "    <tr>\n",
       "      <th>0</th>\n",
       "      <td>Jan 1, 2015 | 12AM-2AM</td>\n",
       "      <td>115</td>\n",
       "    </tr>\n",
       "    <tr>\n",
       "      <th>1</th>\n",
       "      <td>Jan 1, 2015 | 12AM-2AM</td>\n",
       "      <td>80</td>\n",
       "    </tr>\n",
       "    <tr>\n",
       "      <th>2</th>\n",
       "      <td>Jan 1, 2015 | 12AM-2AM</td>\n",
       "      <td>91</td>\n",
       "    </tr>\n",
       "    <tr>\n",
       "      <th>3</th>\n",
       "      <td>Jan 1, 2015 | 12AM-2AM</td>\n",
       "      <td>115</td>\n",
       "    </tr>\n",
       "    <tr>\n",
       "      <th>4</th>\n",
       "      <td>Jan 1, 2015 | 12AM-2AM</td>\n",
       "      <td>105</td>\n",
       "    </tr>\n",
       "    <tr>\n",
       "      <th>5</th>\n",
       "      <td>Jan 1, 2015 | 12AM-2AM</td>\n",
       "      <td>88</td>\n",
       "    </tr>\n",
       "    <tr>\n",
       "      <th>6</th>\n",
       "      <td>Jan 1, 2015 | 12AM-2AM</td>\n",
       "      <td>91</td>\n",
       "    </tr>\n",
       "    <tr>\n",
       "      <th>7</th>\n",
       "      <td>Jan 1, 2015 | 2AM-4AM</td>\n",
       "      <td>68</td>\n",
       "    </tr>\n",
       "    <tr>\n",
       "      <th>8</th>\n",
       "      <td>Jan 1, 2015 | 4AM-6AM</td>\n",
       "      <td>117</td>\n",
       "    </tr>\n",
       "    <tr>\n",
       "      <th>9</th>\n",
       "      <td>Jan 1, 2015 | 8AM-10AM</td>\n",
       "      <td>67</td>\n",
       "    </tr>\n",
       "  </tbody>\n",
       "</table>\n",
       "</div>"
      ],
      "text/plain": [
       "         l_date_timerange start station id\n",
       "0  Jan 1, 2015 | 12AM-2AM              115\n",
       "1  Jan 1, 2015 | 12AM-2AM               80\n",
       "2  Jan 1, 2015 | 12AM-2AM               91\n",
       "3  Jan 1, 2015 | 12AM-2AM              115\n",
       "4  Jan 1, 2015 | 12AM-2AM              105\n",
       "5  Jan 1, 2015 | 12AM-2AM               88\n",
       "6  Jan 1, 2015 | 12AM-2AM               91\n",
       "7   Jan 1, 2015 | 2AM-4AM               68\n",
       "8   Jan 1, 2015 | 4AM-6AM              117\n",
       "9  Jan 1, 2015 | 8AM-10AM               67"
      ]
     },
     "execution_count": 3,
     "metadata": {},
     "output_type": "execute_result"
    }
   ],
   "source": [
    "# get the second dataflow and desired key column\n",
    "dataflow_r = dprep.read_csv(path='https://dpreptestfiles.blob.core.windows.net/bike-share/*-hubway-tripdata.csv')\n",
    "dataflow_r = dataflow_r.keep_columns(['starttime', 'start station id'])\n",
    "dataflow_r = dataflow_r.derive_column_by_example(source_columns='starttime', new_column_name='l_date_timerange',\n",
    "                                                 example_data=[('2015-01-01 00:21:44', 'Jan 1, 2015 | 12AM-2AM')])\n",
    "dataflow_r = dataflow_r.drop_columns('starttime')\n",
    "\n",
    "# cache the results\n",
    "dataflow_r.cache(directory_path=cache_dir)\n",
    "dataflow_r.head(10)"
   ]
  },
  {
   "cell_type": "markdown",
   "metadata": {},
   "source": [
    "There are three ways one can join two dataflows in DataPrep:\n",
    "1. Create `JoinBuilder` object for interactive join configuration.\n",
    "2. Call ```join()``` on one of the dataflows and pass in the other along with all other arguments.\n",
    "3. Call ```Dataflow.join()``` method and pass in two dataflows along with all other arguments.\n",
    "\n",
    "We will explore the builder object as it simplifies the determination of correct arguments. "
   ]
  },
  {
   "cell_type": "code",
   "execution_count": 4,
   "metadata": {},
   "outputs": [
    {
     "data": {
      "text/plain": [
       "JoinBuilder:\n",
       "    join_key_pairs: None\n",
       "    left_column_prefix: l\n",
       "    right_column_prefix: r\n",
       "    left_non_prefixed_columns: []\n",
       "    right_non_prefixed_columns: []\n",
       "    is_join_suggestion_applied: False\n",
       "    is_suggested_join_key_generated: N/A"
      ]
     },
     "execution_count": 4,
     "metadata": {},
     "output_type": "execute_result"
    }
   ],
   "source": [
    "# construct a builder for joining dataflow_l with dataflow_r\n",
    "join_builder = dataflow_l.builders.join(right_dataflow=dataflow_r, left_column_prefix='l', right_column_prefix='r')\n",
    "\n",
    "join_builder"
   ]
  },
  {
   "cell_type": "markdown",
   "metadata": {},
   "source": [
    "As you can see, so far the builder has no propeties set except default values.\n",
    "From here you could set each of the options and preview its effect on the join result or use DataPrep to determine some of them.\n",
    "\n",
    "Let's start with determining appropriate column prefixes for left and right side of the join and lists of columns that would not conflict and therefore don't need to be prefixed.  "
   ]
  },
  {
   "cell_type": "code",
   "execution_count": 5,
   "metadata": {
    "scrolled": true
   },
   "outputs": [
    {
     "data": {
      "text/plain": [
       "JoinBuilder:\n",
       "    join_key_pairs: None\n",
       "    left_column_prefix: l2_\n",
       "    right_column_prefix: r_\n",
       "    left_non_prefixed_columns: ['date_timerange', 'HOURLYDRYBULBTEMPF_Mean', 'KEY_generated']\n",
       "    right_non_prefixed_columns: ['l_date_timerange', 'start station id', 'KEY_generated']\n",
       "    is_join_suggestion_applied: False\n",
       "    is_suggested_join_key_generated: N/A"
      ]
     },
     "execution_count": 5,
     "metadata": {},
     "output_type": "execute_result"
    }
   ],
   "source": [
    "join_builder.detect_column_info()\n",
    "join_builder"
   ]
  },
  {
   "cell_type": "markdown",
   "metadata": {},
   "source": [
    "You can see that DataPrep has performed a pull on both dataflows to determine the column names in them. Given that `dataflow_r` already had a column starting with `l_` new prefix got generated which would not collide with any column names that are already present.\n",
    "Additionally columns in each dataflow that won't conflict during join would remain unprefixed.\n",
    "This apprach to column naming is crucial for join robustness to schema changes in the data. Let's say that at some time in future the data consumed by left dataflow will also have `l_date_timerange` column in it.\n",
    "Configured as above the join will still run as expected and the new column will be prefixed with `l2_` ensuring that ig column `l_date_timerange` was consumed by some other future transformation it remains unaffected.\n",
    "\n",
    "Note: `KEY_generated` is appended to both lists and is reserved for Dataprep use in case Autojoin is performed.\n",
    "\n",
    "### Autojoin\n",
    "Autojoin is a Dataprep feature that determines suitable join arguments given data on both sides. In some cases Autojoin can even derive a key column from a number of available columns in the data.\n",
    "Here is how you can use Autojoin:"
   ]
  },
  {
   "cell_type": "code",
   "execution_count": 6,
   "metadata": {},
   "outputs": [],
   "source": [
    "# generate join suggestions\n",
    "join_builder.generate_suggested_join()"
   ]
  },
  {
   "cell_type": "code",
   "execution_count": 7,
   "metadata": {
    "scrolled": true
   },
   "outputs": [
    {
     "data": {
      "text/plain": [
       "'[{0: \"\\\\nSuggestion:\\\\n    Left:\\\\n        Needs transform: False\\\\n        % of matched rows: 0.18604651162790697\\\\n    Right:\\\\n        Needs transform: False\\\\n        % of matched rows: 1.0\\\\n    Join keys: [(\\'date_timerange\\', \\'l_date_timerange\\')]\\\\n\\\\n\"}]'"
      ]
     },
     "execution_count": 7,
     "metadata": {},
     "output_type": "execute_result"
    }
   ],
   "source": [
    "join_builder.list_join_suggestions()"
   ]
  },
  {
   "cell_type": "code",
   "execution_count": 8,
   "metadata": {},
   "outputs": [],
   "source": [
    "join_builder.apply_suggestion(0)"
   ]
  },
  {
   "cell_type": "code",
   "execution_count": 9,
   "metadata": {
    "scrolled": false
   },
   "outputs": [
    {
     "data": {
      "text/html": [
       "<div>\n",
       "<table border=\"1\" class=\"dataframe\">\n",
       "  <thead>\n",
       "    <tr style=\"text-align: right;\">\n",
       "      <th></th>\n",
       "      <th>date_timerange</th>\n",
       "      <th>HOURLYDRYBULBTEMPF_Mean</th>\n",
       "      <th>l_date_timerange</th>\n",
       "      <th>start station id</th>\n",
       "    </tr>\n",
       "  </thead>\n",
       "  <tbody>\n",
       "    <tr>\n",
       "      <th>0</th>\n",
       "      <td>Jan 1, 2015 | 8AM-10AM</td>\n",
       "      <td>26.500000</td>\n",
       "      <td>Jan 1, 2015 | 8AM-10AM</td>\n",
       "      <td>75</td>\n",
       "    </tr>\n",
       "    <tr>\n",
       "      <th>1</th>\n",
       "      <td>Jan 1, 2015 | 8AM-10AM</td>\n",
       "      <td>26.500000</td>\n",
       "      <td>Jan 1, 2015 | 8AM-10AM</td>\n",
       "      <td>115</td>\n",
       "    </tr>\n",
       "    <tr>\n",
       "      <th>2</th>\n",
       "      <td>Jan 1, 2015 | 8AM-10AM</td>\n",
       "      <td>26.500000</td>\n",
       "      <td>Jan 1, 2015 | 8AM-10AM</td>\n",
       "      <td>88</td>\n",
       "    </tr>\n",
       "    <tr>\n",
       "      <th>3</th>\n",
       "      <td>Jan 1, 2015 | 8AM-10AM</td>\n",
       "      <td>26.500000</td>\n",
       "      <td>Jan 1, 2015 | 8AM-10AM</td>\n",
       "      <td>90</td>\n",
       "    </tr>\n",
       "    <tr>\n",
       "      <th>4</th>\n",
       "      <td>Jan 1, 2015 | 8AM-10AM</td>\n",
       "      <td>26.500000</td>\n",
       "      <td>Jan 1, 2015 | 8AM-10AM</td>\n",
       "      <td>116</td>\n",
       "    </tr>\n",
       "    <tr>\n",
       "      <th>5</th>\n",
       "      <td>Jan 1, 2015 | 10AM-12PM</td>\n",
       "      <td>29.666667</td>\n",
       "      <td>Jan 1, 2015 | 10AM-12PM</td>\n",
       "      <td>88</td>\n",
       "    </tr>\n",
       "    <tr>\n",
       "      <th>6</th>\n",
       "      <td>Jan 1, 2015 | 10AM-12PM</td>\n",
       "      <td>29.666667</td>\n",
       "      <td>Jan 1, 2015 | 10AM-12PM</td>\n",
       "      <td>95</td>\n",
       "    </tr>\n",
       "    <tr>\n",
       "      <th>7</th>\n",
       "      <td>Jan 1, 2015 | 10AM-12PM</td>\n",
       "      <td>29.666667</td>\n",
       "      <td>Jan 1, 2015 | 10AM-12PM</td>\n",
       "      <td>116</td>\n",
       "    </tr>\n",
       "    <tr>\n",
       "      <th>8</th>\n",
       "      <td>Jan 1, 2015 | 10AM-12PM</td>\n",
       "      <td>29.666667</td>\n",
       "      <td>Jan 1, 2015 | 10AM-12PM</td>\n",
       "      <td>116</td>\n",
       "    </tr>\n",
       "    <tr>\n",
       "      <th>9</th>\n",
       "      <td>Jan 1, 2015 | 10AM-12PM</td>\n",
       "      <td>29.666667</td>\n",
       "      <td>Jan 1, 2015 | 10AM-12PM</td>\n",
       "      <td>110</td>\n",
       "    </tr>\n",
       "  </tbody>\n",
       "</table>\n",
       "</div>"
      ],
      "text/plain": [
       "            date_timerange  HOURLYDRYBULBTEMPF_Mean         l_date_timerange  \\\n",
       "0   Jan 1, 2015 | 8AM-10AM                26.500000   Jan 1, 2015 | 8AM-10AM   \n",
       "1   Jan 1, 2015 | 8AM-10AM                26.500000   Jan 1, 2015 | 8AM-10AM   \n",
       "2   Jan 1, 2015 | 8AM-10AM                26.500000   Jan 1, 2015 | 8AM-10AM   \n",
       "3   Jan 1, 2015 | 8AM-10AM                26.500000   Jan 1, 2015 | 8AM-10AM   \n",
       "4   Jan 1, 2015 | 8AM-10AM                26.500000   Jan 1, 2015 | 8AM-10AM   \n",
       "5  Jan 1, 2015 | 10AM-12PM                29.666667  Jan 1, 2015 | 10AM-12PM   \n",
       "6  Jan 1, 2015 | 10AM-12PM                29.666667  Jan 1, 2015 | 10AM-12PM   \n",
       "7  Jan 1, 2015 | 10AM-12PM                29.666667  Jan 1, 2015 | 10AM-12PM   \n",
       "8  Jan 1, 2015 | 10AM-12PM                29.666667  Jan 1, 2015 | 10AM-12PM   \n",
       "9  Jan 1, 2015 | 10AM-12PM                29.666667  Jan 1, 2015 | 10AM-12PM   \n",
       "\n",
       "  start station id  \n",
       "0               75  \n",
       "1              115  \n",
       "2               88  \n",
       "3               90  \n",
       "4              116  \n",
       "5               88  \n",
       "6               95  \n",
       "7              116  \n",
       "8              116  \n",
       "9              110  "
      ]
     },
     "execution_count": 9,
     "metadata": {},
     "output_type": "execute_result"
    }
   ],
   "source": [
    "join_builder.preview(10)"
   ]
  },
  {
   "cell_type": "markdown",
   "metadata": {},
   "source": [
    "Everything looks just as we would expect, so it is time to get our new joined dataflow."
   ]
  },
  {
   "cell_type": "code",
   "execution_count": 10,
   "metadata": {},
   "outputs": [],
   "source": [
    "dataflow_autojoined = join_builder.to_dataflow().drop_columns(['l_date_timerange'])"
   ]
  },
  {
   "cell_type": "markdown",
   "metadata": {},
   "source": [
    "### Joining two dataflows without pulling the data\n",
    "\n",
    "In don't want to pull on data and know what join should look like you can always you join method on Dataflow "
   ]
  },
  {
   "cell_type": "code",
   "execution_count": 11,
   "metadata": {},
   "outputs": [],
   "source": [
    "dataflow_joined = dprep.Dataflow.join(left_dataflow=dataflow_l,\n",
    "                                      right_dataflow=dataflow_r,\n",
    "                                      join_key_pairs=[('date_timerange', 'l_date_timerange')],\n",
    "                                      left_column_prefix='l2_',\n",
    "                                      right_column_prefix='r_')\n"
   ]
  },
  {
   "cell_type": "code",
   "execution_count": 12,
   "metadata": {},
   "outputs": [
    {
     "data": {
      "text/html": [
       "<div>\n",
       "<table border=\"1\" class=\"dataframe\">\n",
       "  <thead>\n",
       "    <tr style=\"text-align: right;\">\n",
       "      <th></th>\n",
       "      <th>l2_date_timerange</th>\n",
       "      <th>l2_HOURLYDRYBULBTEMPF_Mean</th>\n",
       "      <th>r_l_date_timerange</th>\n",
       "      <th>r_start station id</th>\n",
       "    </tr>\n",
       "  </thead>\n",
       "  <tbody>\n",
       "    <tr>\n",
       "      <th>0</th>\n",
       "      <td>Jan 1, 2015 | 12AM-2AM</td>\n",
       "      <td>22.0</td>\n",
       "      <td>Jan 1, 2015 | 12AM-2AM</td>\n",
       "      <td>115</td>\n",
       "    </tr>\n",
       "    <tr>\n",
       "      <th>1</th>\n",
       "      <td>Jan 1, 2015 | 12AM-2AM</td>\n",
       "      <td>22.0</td>\n",
       "      <td>Jan 1, 2015 | 12AM-2AM</td>\n",
       "      <td>80</td>\n",
       "    </tr>\n",
       "    <tr>\n",
       "      <th>2</th>\n",
       "      <td>Jan 1, 2015 | 12AM-2AM</td>\n",
       "      <td>22.0</td>\n",
       "      <td>Jan 1, 2015 | 12AM-2AM</td>\n",
       "      <td>91</td>\n",
       "    </tr>\n",
       "    <tr>\n",
       "      <th>3</th>\n",
       "      <td>Jan 1, 2015 | 12AM-2AM</td>\n",
       "      <td>22.0</td>\n",
       "      <td>Jan 1, 2015 | 12AM-2AM</td>\n",
       "      <td>115</td>\n",
       "    </tr>\n",
       "    <tr>\n",
       "      <th>4</th>\n",
       "      <td>Jan 1, 2015 | 12AM-2AM</td>\n",
       "      <td>22.0</td>\n",
       "      <td>Jan 1, 2015 | 12AM-2AM</td>\n",
       "      <td>105</td>\n",
       "    </tr>\n",
       "    <tr>\n",
       "      <th>5</th>\n",
       "      <td>Jan 1, 2015 | 12AM-2AM</td>\n",
       "      <td>22.0</td>\n",
       "      <td>Jan 1, 2015 | 12AM-2AM</td>\n",
       "      <td>88</td>\n",
       "    </tr>\n",
       "    <tr>\n",
       "      <th>6</th>\n",
       "      <td>Jan 1, 2015 | 12AM-2AM</td>\n",
       "      <td>22.0</td>\n",
       "      <td>Jan 1, 2015 | 12AM-2AM</td>\n",
       "      <td>91</td>\n",
       "    </tr>\n",
       "    <tr>\n",
       "      <th>7</th>\n",
       "      <td>Jan 1, 2015 | 2AM-4AM</td>\n",
       "      <td>23.0</td>\n",
       "      <td>Jan 1, 2015 | 2AM-4AM</td>\n",
       "      <td>68</td>\n",
       "    </tr>\n",
       "    <tr>\n",
       "      <th>8</th>\n",
       "      <td>Jan 1, 2015 | 4AM-6AM</td>\n",
       "      <td>23.0</td>\n",
       "      <td>Jan 1, 2015 | 4AM-6AM</td>\n",
       "      <td>117</td>\n",
       "    </tr>\n",
       "    <tr>\n",
       "      <th>9</th>\n",
       "      <td>Jan 1, 2015 | 8AM-10AM</td>\n",
       "      <td>26.5</td>\n",
       "      <td>Jan 1, 2015 | 8AM-10AM</td>\n",
       "      <td>67</td>\n",
       "    </tr>\n",
       "  </tbody>\n",
       "</table>\n",
       "</div>"
      ],
      "text/plain": [
       "        l2_date_timerange  l2_HOURLYDRYBULBTEMPF_Mean      r_l_date_timerange  \\\n",
       "0  Jan 1, 2015 | 12AM-2AM                        22.0  Jan 1, 2015 | 12AM-2AM   \n",
       "1  Jan 1, 2015 | 12AM-2AM                        22.0  Jan 1, 2015 | 12AM-2AM   \n",
       "2  Jan 1, 2015 | 12AM-2AM                        22.0  Jan 1, 2015 | 12AM-2AM   \n",
       "3  Jan 1, 2015 | 12AM-2AM                        22.0  Jan 1, 2015 | 12AM-2AM   \n",
       "4  Jan 1, 2015 | 12AM-2AM                        22.0  Jan 1, 2015 | 12AM-2AM   \n",
       "5  Jan 1, 2015 | 12AM-2AM                        22.0  Jan 1, 2015 | 12AM-2AM   \n",
       "6  Jan 1, 2015 | 12AM-2AM                        22.0  Jan 1, 2015 | 12AM-2AM   \n",
       "7   Jan 1, 2015 | 2AM-4AM                        23.0   Jan 1, 2015 | 2AM-4AM   \n",
       "8   Jan 1, 2015 | 4AM-6AM                        23.0   Jan 1, 2015 | 4AM-6AM   \n",
       "9  Jan 1, 2015 | 8AM-10AM                        26.5  Jan 1, 2015 | 8AM-10AM   \n",
       "\n",
       "  r_start station id  \n",
       "0                115  \n",
       "1                 80  \n",
       "2                 91  \n",
       "3                115  \n",
       "4                105  \n",
       "5                 88  \n",
       "6                 91  \n",
       "7                 68  \n",
       "8                117  \n",
       "9                 67  "
      ]
     },
     "execution_count": 12,
     "metadata": {},
     "output_type": "execute_result"
    }
   ],
   "source": [
    "dataflow_joined.head(10)"
   ]
  }
 ],
 "metadata": {
  "kernelspec": {
   "display_name": "Python 3",
   "language": "python",
   "name": "python3"
  },
  "language_info": {
   "codemirror_mode": {
    "name": "ipython",
    "version": 3
   },
   "file_extension": ".py",
   "mimetype": "text/x-python",
   "name": "python",
   "nbconvert_exporter": "python",
   "pygments_lexer": "ipython3",
   "version": "3.6.4"
  }
 },
 "nbformat": 4,
 "nbformat_minor": 2
}
