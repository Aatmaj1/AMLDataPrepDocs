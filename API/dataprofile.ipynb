{
 "cells": [
  {
   "cell_type": "markdown",
   "metadata": {},
   "source": [
    "# Data Profile"
   ]
  },
  {
   "cell_type": "markdown",
   "metadata": {},
   "source": [
    "A DataProfile collects summary statistics on the data produced by a Dataflow. `Dataflow.get_profile()` executes the Dataflow and returns a newly constructed DataProfile."
   ]
  },
  {
   "cell_type": "code",
   "execution_count": 1,
   "metadata": {},
   "outputs": [],
   "source": [
    "import azureml.dataprep as dprep\n",
    "\n",
    "df = dprep.smart_read_file('data/crime0-10.csv')\n",
    "profile = df.get_profile()"
   ]
  },
  {
   "cell_type": "markdown",
   "metadata": {},
   "source": [
    "A DataProfile contains a collection of ColumnProfiles, indexed by column name. Each ColumnProfile has attributes for the calculated column statistics."
   ]
  },
  {
   "cell_type": "code",
   "execution_count": 2,
   "metadata": {},
   "outputs": [
    {
     "data": {
      "text/plain": [
       "ColumnProfile\n",
       "    name: ID\n",
       "    type: FieldType.DECIMAL\n",
       "\n",
       "    min: 10139697.0\n",
       "    max: 10140868.0\n",
       "    count: 10.0\n",
       "    missing_count: 0.0\n",
       "    error_count: 0.0\n",
       "\n",
       "    lower_quartile: 10139762.0\n",
       "    median: 10139830.5\n",
       "    upper_quartile: 10140379.0\n",
       "    std: 409.8056585475928\n",
       "    mean: 10140062.299999999"
      ]
     },
     "execution_count": 2,
     "metadata": {},
     "output_type": "execute_result"
    }
   ],
   "source": [
    "profile.columns['ID']"
   ]
  },
  {
   "cell_type": "markdown",
   "metadata": {},
   "source": [
    "We can also extract a specific attribute across all columns by using a dict comprehension."
   ]
  },
  {
   "cell_type": "code",
   "execution_count": 3,
   "metadata": {},
   "outputs": [
    {
     "data": {
      "text/plain": [
       "{'Arrest': <FieldType.BOOLEAN: 1>,\n",
       " 'Beat': <FieldType.DECIMAL: 3>,\n",
       " 'Block': <FieldType.STRING: 0>,\n",
       " 'Case Number': <FieldType.STRING: 0>,\n",
       " 'Community Area': <FieldType.DECIMAL: 3>,\n",
       " 'Date': <FieldType.DATE: 4>,\n",
       " 'Description': <FieldType.STRING: 0>,\n",
       " 'District': <FieldType.DECIMAL: 3>,\n",
       " 'Domestic': <FieldType.BOOLEAN: 1>,\n",
       " 'FBI Code': <FieldType.STRING: 0>,\n",
       " 'ID': <FieldType.DECIMAL: 3>,\n",
       " 'IUCR': <FieldType.DECIMAL: 3>,\n",
       " 'Latitude': <FieldType.DECIMAL: 3>,\n",
       " 'Location': <FieldType.STRING: 0>,\n",
       " 'Location Description': <FieldType.STRING: 0>,\n",
       " 'Longitude': <FieldType.DECIMAL: 3>,\n",
       " 'Primary Type': <FieldType.STRING: 0>,\n",
       " 'Updated On': <FieldType.DATE: 4>,\n",
       " 'Ward': <FieldType.DECIMAL: 3>,\n",
       " 'X Coordinate': <FieldType.DECIMAL: 3>,\n",
       " 'Y Coordinate': <FieldType.DECIMAL: 3>,\n",
       " 'Year': <FieldType.DECIMAL: 3>}"
      ]
     },
     "execution_count": 3,
     "metadata": {},
     "output_type": "execute_result"
    }
   ],
   "source": [
    "column_types = { c.name: c.type for c in profile.columns.values() }\n",
    "column_types"
   ]
  }
 ],
 "metadata": {
  "kernelspec": {
   "display_name": "Python 3",
   "language": "python",
   "name": "python3"
  },
  "language_info": {
   "codemirror_mode": {
    "name": "ipython",
    "version": 3
   },
   "file_extension": ".py",
   "mimetype": "text/x-python",
   "name": "python",
   "nbconvert_exporter": "python",
   "pygments_lexer": "ipython3",
   "version": "3.6.4"
  }
 },
 "nbformat": 4,
 "nbformat_minor": 2
}
