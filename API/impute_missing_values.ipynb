{
 "cells": [
  {
   "cell_type": "markdown",
   "metadata": {},
   "source": [
    "# Impute missing values"
   ]
  },
  {
   "cell_type": "markdown",
   "metadata": {},
   "source": [
    "DataPrep has the ability to impute missing values in specified columns. In this case, we will attempt to impute the missing _Latitude_ and _Longitude_ values in the input data."
   ]
  },
  {
   "cell_type": "code",
   "execution_count": 1,
   "metadata": {},
   "outputs": [],
   "source": [
    "import azureml.dataprep as dprep"
   ]
  },
  {
   "cell_type": "code",
   "execution_count": 2,
   "metadata": {},
   "outputs": [
    {
     "data": {
      "text/html": [
       "<div>\n",
       "<table border=\"1\" class=\"dataframe\">\n",
       "  <thead>\n",
       "    <tr style=\"text-align: right;\">\n",
       "      <th></th>\n",
       "      <th>ID</th>\n",
       "      <th>Arrest</th>\n",
       "      <th>Latitude</th>\n",
       "      <th>Longitude</th>\n",
       "    </tr>\n",
       "  </thead>\n",
       "  <tbody>\n",
       "    <tr>\n",
       "      <th>0</th>\n",
       "      <td>10140490</td>\n",
       "      <td>false</td>\n",
       "      <td>41.973309</td>\n",
       "      <td>-87.800175</td>\n",
       "    </tr>\n",
       "    <tr>\n",
       "      <th>1</th>\n",
       "      <td>10139776</td>\n",
       "      <td>false</td>\n",
       "      <td>42.008124</td>\n",
       "      <td>-87.659550</td>\n",
       "    </tr>\n",
       "    <tr>\n",
       "      <th>2</th>\n",
       "      <td>10140270</td>\n",
       "      <td>false</td>\n",
       "      <td>NaN</td>\n",
       "      <td>NaN</td>\n",
       "    </tr>\n",
       "    <tr>\n",
       "      <th>3</th>\n",
       "      <td>10139885</td>\n",
       "      <td>false</td>\n",
       "      <td>41.902152</td>\n",
       "      <td>-87.754883</td>\n",
       "    </tr>\n",
       "    <tr>\n",
       "      <th>4</th>\n",
       "      <td>10140379</td>\n",
       "      <td>false</td>\n",
       "      <td>41.885610</td>\n",
       "      <td>-87.657009</td>\n",
       "    </tr>\n",
       "    <tr>\n",
       "      <th>5</th>\n",
       "      <td>10140868</td>\n",
       "      <td>false</td>\n",
       "      <td>41.679311</td>\n",
       "      <td>-87.644545</td>\n",
       "    </tr>\n",
       "    <tr>\n",
       "      <th>6</th>\n",
       "      <td>10139762</td>\n",
       "      <td>false</td>\n",
       "      <td>41.825501</td>\n",
       "      <td>-87.690578</td>\n",
       "    </tr>\n",
       "    <tr>\n",
       "      <th>7</th>\n",
       "      <td>10139722</td>\n",
       "      <td>true</td>\n",
       "      <td>41.857828</td>\n",
       "      <td>-87.715029</td>\n",
       "    </tr>\n",
       "    <tr>\n",
       "      <th>8</th>\n",
       "      <td>10139774</td>\n",
       "      <td>false</td>\n",
       "      <td>41.970100</td>\n",
       "      <td>-87.669324</td>\n",
       "    </tr>\n",
       "    <tr>\n",
       "      <th>9</th>\n",
       "      <td>10139697</td>\n",
       "      <td>false</td>\n",
       "      <td>41.787580</td>\n",
       "      <td>-87.685233</td>\n",
       "    </tr>\n",
       "  </tbody>\n",
       "</table>\n",
       "</div>"
      ],
      "text/plain": [
       "         ID Arrest   Latitude  Longitude\n",
       "0  10140490  false  41.973309 -87.800175\n",
       "1  10139776  false  42.008124 -87.659550\n",
       "2  10140270  false        NaN        NaN\n",
       "3  10139885  false  41.902152 -87.754883\n",
       "4  10140379  false  41.885610 -87.657009\n",
       "5  10140868  false  41.679311 -87.644545\n",
       "6  10139762  false  41.825501 -87.690578\n",
       "7  10139722   true  41.857828 -87.715029\n",
       "8  10139774  false  41.970100 -87.669324\n",
       "9  10139697  false  41.787580 -87.685233"
      ]
     },
     "execution_count": 2,
     "metadata": {},
     "output_type": "execute_result"
    }
   ],
   "source": [
    "# loading input data\n",
    "df = dprep.read_csv(r'data\\crime0-10.csv')\n",
    "df = df.keep_columns(['ID', 'Arrest', 'Latitude', 'Longitude'])\n",
    "df = df.to_number(['Latitude', 'Longitude'])\n",
    "df.head(10)"
   ]
  },
  {
   "cell_type": "markdown",
   "metadata": {},
   "source": [
    "The third record from input data has _Latitude_ and _Longitude_ missing. To impute those missing values, we can use `ImputeMissingValuesBuilder` to learn a fixed program which imputes the columns with either a calculated `MIN`, `MAX` or `MEAN` value or a `CUSTOM` value. When `group_by_columns` is specified, missing values will be imputed by group with `MIN`, `MAX` and `MEAN` calculated per group."
   ]
  },
  {
   "cell_type": "markdown",
   "metadata": {},
   "source": [
    "Firstly, let us quickly see check the `MEAN` value of _Latitude_ column."
   ]
  },
  {
   "cell_type": "code",
   "execution_count": 3,
   "metadata": {},
   "outputs": [
    {
     "data": {
      "text/html": [
       "<div>\n",
       "<table border=\"1\" class=\"dataframe\">\n",
       "  <thead>\n",
       "    <tr style=\"text-align: right;\">\n",
       "      <th></th>\n",
       "      <th>Arrest</th>\n",
       "      <th>Latitude_MEAN</th>\n",
       "    </tr>\n",
       "  </thead>\n",
       "  <tbody>\n",
       "    <tr>\n",
       "      <th>0</th>\n",
       "      <td>false</td>\n",
       "      <td>41.878961</td>\n",
       "    </tr>\n",
       "  </tbody>\n",
       "</table>\n",
       "</div>"
      ],
      "text/plain": [
       "  Arrest  Latitude_MEAN\n",
       "0  false      41.878961"
      ]
     },
     "execution_count": 3,
     "metadata": {},
     "output_type": "execute_result"
    }
   ],
   "source": [
    "df_mean = df.summarize(group_by_columns=['Arrest'],\n",
    "                       summary_columns=[dprep.SummaryColumnsValue(column_id='Latitude',\n",
    "                                                                 summary_column_name='Latitude_MEAN',\n",
    "                                                                 summary_function=dprep.SummaryFunction.MEAN)])\n",
    "df_mean = df_mean.filter(dprep.col('Arrest') == 'false')\n",
    "df_mean.head(1)"
   ]
  },
  {
   "cell_type": "markdown",
   "metadata": {},
   "source": [
    "The `MEAN` value of _Latitude_ looks good. So we will impute _Latitude_ with it. As for `Longitude`, we will impute it using `42` based on external knowledge."
   ]
  },
  {
   "cell_type": "code",
   "execution_count": 4,
   "metadata": {},
   "outputs": [],
   "source": [
    "# impute with MEAN\n",
    "impute_mean = dprep.ImputeColumnArguments(column_id='Latitude',\n",
    "                                          impute_function=dprep.ReplaceValueFunction.MEAN)\n",
    "# impute with custom value 42\n",
    "impute_custom = dprep.ImputeColumnArguments(column_id='Longitude',\n",
    "                                            custom_impute_value=42)\n",
    "# get instance of ImputeMissingValuesBuilder\n",
    "impute_builder = df.builders.impute_missing_values(impute_columns=[impute_mean, impute_custom],\n",
    "                                                   group_by_columns=['Arrest'])\n",
    "# call learn() to learn a fixed program to impute missing values\n",
    "impute_builder.learn()\n",
    "# call to_dataflow() to get a dataflow with impute step added\n",
    "df_imputed = impute_builder.to_dataflow()"
   ]
  },
  {
   "cell_type": "code",
   "execution_count": 5,
   "metadata": {},
   "outputs": [
    {
     "data": {
      "text/html": [
       "<div>\n",
       "<table border=\"1\" class=\"dataframe\">\n",
       "  <thead>\n",
       "    <tr style=\"text-align: right;\">\n",
       "      <th></th>\n",
       "      <th>ID</th>\n",
       "      <th>Arrest</th>\n",
       "      <th>Latitude</th>\n",
       "      <th>Longitude</th>\n",
       "    </tr>\n",
       "  </thead>\n",
       "  <tbody>\n",
       "    <tr>\n",
       "      <th>0</th>\n",
       "      <td>10140490</td>\n",
       "      <td>false</td>\n",
       "      <td>41.973309</td>\n",
       "      <td>-87.800175</td>\n",
       "    </tr>\n",
       "    <tr>\n",
       "      <th>1</th>\n",
       "      <td>10139776</td>\n",
       "      <td>false</td>\n",
       "      <td>42.008124</td>\n",
       "      <td>-87.659550</td>\n",
       "    </tr>\n",
       "    <tr>\n",
       "      <th>2</th>\n",
       "      <td>10140270</td>\n",
       "      <td>false</td>\n",
       "      <td>41.878961</td>\n",
       "      <td>42.000000</td>\n",
       "    </tr>\n",
       "    <tr>\n",
       "      <th>3</th>\n",
       "      <td>10139885</td>\n",
       "      <td>false</td>\n",
       "      <td>41.902152</td>\n",
       "      <td>-87.754883</td>\n",
       "    </tr>\n",
       "    <tr>\n",
       "      <th>4</th>\n",
       "      <td>10140379</td>\n",
       "      <td>false</td>\n",
       "      <td>41.885610</td>\n",
       "      <td>-87.657009</td>\n",
       "    </tr>\n",
       "    <tr>\n",
       "      <th>5</th>\n",
       "      <td>10140868</td>\n",
       "      <td>false</td>\n",
       "      <td>41.679311</td>\n",
       "      <td>-87.644545</td>\n",
       "    </tr>\n",
       "    <tr>\n",
       "      <th>6</th>\n",
       "      <td>10139762</td>\n",
       "      <td>false</td>\n",
       "      <td>41.825501</td>\n",
       "      <td>-87.690578</td>\n",
       "    </tr>\n",
       "    <tr>\n",
       "      <th>7</th>\n",
       "      <td>10139722</td>\n",
       "      <td>true</td>\n",
       "      <td>41.857828</td>\n",
       "      <td>-87.715029</td>\n",
       "    </tr>\n",
       "    <tr>\n",
       "      <th>8</th>\n",
       "      <td>10139774</td>\n",
       "      <td>false</td>\n",
       "      <td>41.970100</td>\n",
       "      <td>-87.669324</td>\n",
       "    </tr>\n",
       "    <tr>\n",
       "      <th>9</th>\n",
       "      <td>10139697</td>\n",
       "      <td>false</td>\n",
       "      <td>41.787580</td>\n",
       "      <td>-87.685233</td>\n",
       "    </tr>\n",
       "  </tbody>\n",
       "</table>\n",
       "</div>"
      ],
      "text/plain": [
       "         ID Arrest   Latitude  Longitude\n",
       "0  10140490  false  41.973309 -87.800175\n",
       "1  10139776  false  42.008124 -87.659550\n",
       "2  10140270  false  41.878961  42.000000\n",
       "3  10139885  false  41.902152 -87.754883\n",
       "4  10140379  false  41.885610 -87.657009\n",
       "5  10140868  false  41.679311 -87.644545\n",
       "6  10139762  false  41.825501 -87.690578\n",
       "7  10139722   true  41.857828 -87.715029\n",
       "8  10139774  false  41.970100 -87.669324\n",
       "9  10139697  false  41.787580 -87.685233"
      ]
     },
     "execution_count": 5,
     "metadata": {},
     "output_type": "execute_result"
    }
   ],
   "source": [
    "# check impute result\n",
    "df_imputed.head(10)"
   ]
  },
  {
   "cell_type": "markdown",
   "metadata": {},
   "source": [
    "As the result above, the missing _Latitude_ has been imputed with the `MEAN` value of `Arrest=='false'` group, and the missing _Longitude_ has been imputed with `42`."
   ]
  },
  {
   "cell_type": "code",
   "execution_count": 6,
   "metadata": {},
   "outputs": [],
   "source": [
    "# TEST CELL: impute CUSTOM returns correct result\n",
    "imputed_longitude = df_imputed.to_pandas_dataframe()['Longitude'][2]\n",
    "assert imputed_longitude == 42"
   ]
  }
 ],
 "metadata": {
  "kernelspec": {
   "display_name": "Python 3",
   "language": "python",
   "name": "python3"
  },
  "language_info": {
   "codemirror_mode": {
    "name": "ipython",
    "version": 3
   },
   "file_extension": ".py",
   "mimetype": "text/x-python",
   "name": "python",
   "nbconvert_exporter": "python",
   "pygments_lexer": "ipython3",
   "version": "3.6.4"
  }
 },
 "nbformat": 4,
 "nbformat_minor": 2
}
