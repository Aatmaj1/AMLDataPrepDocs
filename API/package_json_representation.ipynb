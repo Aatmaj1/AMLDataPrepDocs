{
 "cells": [
  {
   "cell_type": "markdown",
   "metadata": {},
   "source": [
    "# Work with JSON representation of Package\n",
    "Copyright (c) Microsoft Corporation. All rights reserved.<br>\n",
    "Licensed under the MIT License."
   ]
  },
  {
   "cell_type": "markdown",
   "metadata": {},
   "source": [
    "DataPrep Package can be saved to and loaded from JSON string."
   ]
  },
  {
   "cell_type": "code",
   "execution_count": 1,
   "metadata": {},
   "outputs": [],
   "source": [
    "# create a Dataflow and pack it into a Package\n",
    "import azureml.dataprep as dprep\n",
    "df = dprep.read_csv(path='https://dpreptestfiles.blob.core.windows.net/testfiles/read_csv_duplicate_headers.csv')\n",
    "pkg = dprep.Package(df)"
   ]
  },
  {
   "cell_type": "code",
   "execution_count": 2,
   "metadata": {},
   "outputs": [
    {
     "data": {
      "text/plain": [
       "'{\\r\\n  \"schemaVersion\": 61,\\r\\n  \"id\": \"298a7dad-8b90-4cf9-b0a2-8011a65c260f\",\\r\\n  \"activities\": [\\r\\n    {\\r\\n      \"id\": \"95b6ad23-9c41-4698-8469-b45faabb1ea8\",\\r\\n      \"name\": \"dataflow\",\\r\\n      \"blocks\": [\\r\\n        {\\r\\n          \"id\": \"357bbf5f-0d99-4e1d-9b74-9ea28eaeff00\",\\r\\n          \"type\": \"Microsoft.DPrep.GetFilesBlock\",\\r\\n          \"arguments\": {\\r\\n            \"path\": {\\r\\n              \"target\": 1,\\r\\n              \"resourceDetails\": [\\r\\n                {\\r\\n                  \"path\": \"https://dpreptestfiles.blob.core.windows.net/testfiles/read_csv_duplicate_headers.csv\",\\r\\n                  \"sas\": null,\\r\\n                  \"storageAccountName\": null,\\r\\n                  \"storageAccountKey\": null\\r\\n                }\\r\\n              ]\\r\\n            }\\r\\n          },\\r\\n          \"isEnabled\": true,\\r\\n          \"name\": null,\\r\\n          \"annotation\": null\\r\\n        },\\r\\n        {\\r\\n          \"id\": \"5bf6f52c-2906-44be-8c73-1e8833375d63\",\\r\\n          \"type\": \"Microsoft.DPrep.ParseDelimitedBlock\",\\r\\n          \"arguments\": {\\r\\n            \"columnHeadersMode\": 3,\\r\\n            \"fileEncoding\": 0,\\r\\n            \"handleQuotedLineBreaks\": false,\\r\\n            \"preview\": false,\\r\\n            \"separator\": \",\",\\r\\n            \"skipRows\": 0,\\r\\n            \"skipRowsMode\": 0\\r\\n          },\\r\\n          \"isEnabled\": true,\\r\\n          \"name\": null,\\r\\n          \"annotation\": null\\r\\n        },\\r\\n        {\\r\\n          \"id\": \"068b8aab-3aa5-46a6-b3bd-195b9179ae59\",\\r\\n          \"type\": \"Microsoft.DPrep.DropColumnsBlock\",\\r\\n          \"arguments\": {\\r\\n            \"columns\": {\\r\\n              \"type\": 0,\\r\\n              \"details\": {\\r\\n                \"selectedColumns\": [\\r\\n                  \"Path\"\\r\\n                ]\\r\\n              }\\r\\n            }\\r\\n          },\\r\\n          \"isEnabled\": true,\\r\\n          \"name\": null,\\r\\n          \"annotation\": null\\r\\n        }\\r\\n      ],\\r\\n      \"inspectors\": []\\r\\n    }\\r\\n  ],\\r\\n  \"runConfigurations\": []\\r\\n}'"
      ]
     },
     "execution_count": 2,
     "metadata": {},
     "output_type": "execute_result"
    }
   ],
   "source": [
    "# save Package to JSON string\n",
    "json_str = pkg.to_json()\n",
    "json_str"
   ]
  },
  {
   "cell_type": "code",
   "execution_count": 3,
   "metadata": {},
   "outputs": [],
   "source": [
    "# TEST CELL: json_str is valid JSON\n",
    "import json\n",
    "assert json.loads(json_str) is not None"
   ]
  },
  {
   "cell_type": "code",
   "execution_count": 4,
   "metadata": {},
   "outputs": [],
   "source": [
    "# load Package from JSON string\n",
    "pkg_loaded = dprep.Package.from_json(json_str)\n",
    "df_loaded = pkg_loaded.dataflows[0]"
   ]
  },
  {
   "cell_type": "code",
   "execution_count": 5,
   "metadata": {},
   "outputs": [],
   "source": [
    "# TEST CELL: df_loaded has the same shape as df\n",
    "assert df.to_pandas_dataframe().shape == df_loaded.to_pandas_dataframe().shape"
   ]
  }
 ],
 "metadata": {
  "kernelspec": {
   "display_name": "Python 3",
   "language": "python",
   "name": "python3"
  },
  "language_info": {
   "codemirror_mode": {
    "name": "ipython",
    "version": 3
   },
   "file_extension": ".py",
   "mimetype": "text/x-python",
   "name": "python",
   "nbconvert_exporter": "python",
   "pygments_lexer": "ipython3",
   "version": "3.6.4"
  }
 },
 "nbformat": 4,
 "nbformat_minor": 2
}
