{
 "cells": [
  {
   "cell_type": "markdown",
   "metadata": {},
   "source": [
    "![Impressions](https://PixelServer20190423114238.azurewebsites.net/api/impressions/MachineLearningNotebooks/work-with-data/dataprep/how-to-guides/inspector.png)"
   ]
  },
  {
   "cell_type": "markdown",
   "metadata": {},
   "source": [
    "# Inspector"
   ]
  },
  {
   "cell_type": "markdown",
   "metadata": {},
   "source": [
    "An Inspector collects specific statistics on specified columns of a Dataflow. This can be used to understand the input data under contraints.\n",
    "\n",
    "`Dataflow.execute_inspector()` executes the Inspector. It takes an `Inspector` as an argument."
   ]
  },
  {
   "cell_type": "code",
   "execution_count": null,
   "metadata": {},
   "outputs": [],
   "source": [
    "import azureml.dataprep as dprep\n",
    "\n",
    "dflow = dprep.auto_read_file('../data/crime-spring.csv')\n",
    "bw_inspector = dprep.BoxAndWhiskerInspector(\"Ward\")\n",
    "bw_result = dflow.execute_inspector(bw_inspector)\n",
    "\n",
    "bw_result"
   ]
  },
  {
   "cell_type": "markdown",
   "metadata": {},
   "source": [
    "The response is given as a `ExecuteInspectorCommonResponse`. `ExecuteInspectorCommonResponse` has two members:\n",
    "- `column_definitions`\n",
    "- `rows_data`\n",
    "\n",
    "The `type` inside the `DataField`s of  `rowsData` and the `ColumnDefinition`s in `columnDefinitions` corresponds to a `FieldType`."
   ]
  },
  {
   "cell_type": "markdown",
   "metadata": {},
   "source": [
    "Here is a list of all the `Inspector`s that are currently supported. `get_profile()` executes a `TableInspector`."
   ]
  },
  {
   "cell_type": "code",
   "execution_count": null,
   "metadata": {},
   "outputs": [],
   "source": [
    "dflow.get_profile()\n",
    "\n",
    "bw_inspector = dprep.BoxAndWhiskerInspector(\"Ward\")\n",
    "bw_result = dflow.execute_inspector(bw_inspector)\n",
    "\n",
    "column_stats_inspector = dprep.ColumnStatsInspector(\"Community Area\")\n",
    "column_stats_result = dflow.execute_inspector(column_stats_inspector)\n",
    "\n",
    "histogram_inspector = dprep.HistogramInspector(\"Description\", True, True, True, True)\n",
    "histogram_result = dflow.execute_inspector(histogram_inspector)\n",
    "\n",
    "scatter_plot_inspector = dprep.ScatterPlotInspector(\"X Coordinate\", \"Y Coordinate\", 1, 1234)\n",
    "scatter_plot_result = dflow.execute_inspector(scatter_plot_inspector)\n",
    "\n",
    "value_count_inspector = dprep.ValueCountInspector(\"Ward\")\n",
    "value_count_result = dflow.execute_inspector(value_count_inspector)"
   ]
  },
  {
   "cell_type": "markdown",
   "metadata": {},
   "source": [
    "Multiple `Inspector`s can be executed with `dflow.execute_inspectors()`. It takes in a list of `Inspector`s."
   ]
  },
  {
   "cell_type": "code",
   "execution_count": null,
   "metadata": {},
   "outputs": [],
   "source": [
    "batch_result = dflow.execute_inspectors([bw_inspector, histogram_inspector, scatter_plot_inspector, column_stats_inspector, value_count_inspector])\n",
    "batch_result"
   ]
  },
  {
   "cell_type": "markdown",
   "metadata": {},
   "source": [
    "`execute_inspectors()` returns a `Dict` of `Inspector` -> `ExecuteInspectorCommonResponse` so you can use an `Inspector` as a key."
   ]
  },
  {
   "cell_type": "code",
   "execution_count": null,
   "metadata": {},
   "outputs": [],
   "source": [
    "batch_result[column_stats_inspector]"
   ]
  }
 ],
 "metadata": {
  "authors": [
   {
    "name": "sihhu"
   }
  ],
  "kernelspec": {
   "display_name": "Python 3.6",
   "language": "python",
   "name": "python36"
  },
  "language_info": {
   "codemirror_mode": {
    "name": "ipython",
    "version": 3
   },
   "file_extension": ".py",
   "mimetype": "text/x-python",
   "name": "python",
   "nbconvert_exporter": "python",
   "pygments_lexer": "ipython3",
   "version": "3.6.4"
  },
  "notice": "Copyright (c) Microsoft Corporation. All rights reserved. Licensed under the MIT License."
 },
 "nbformat": 4,
 "nbformat_minor": 2
}
