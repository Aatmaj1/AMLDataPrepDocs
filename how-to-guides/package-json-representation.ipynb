{
 "cells": [
  {
   "cell_type": "markdown",
   "metadata": {},
   "source": [
    "# Work with JSON representation of Package\n",
    "Copyright (c) Microsoft Corporation. All rights reserved.<br>\n",
    "Licensed under the MIT License."
   ]
  },
  {
   "cell_type": "markdown",
   "metadata": {},
   "source": [
    "DataPrep Package can be saved to and loaded from JSON string."
   ]
  },
  {
   "cell_type": "code",
   "execution_count": 1,
   "metadata": {},
   "outputs": [],
   "source": [
    "# create a Dataflow and pack it into a Package\n",
    "import azureml.dataprep as dprep\n",
    "df = dprep.read_csv(path='https://dpreptestfiles.blob.core.windows.net/testfiles/read_csv_duplicate_headers.csv')\n",
    "pkg = dprep.Package(df)"
   ]
  },
  {
   "cell_type": "code",
   "execution_count": 2,
   "metadata": {},
   "outputs": [
    {
     "data": {
      "text/plain": [
       "'{\\n  \"schemaVersion\": 62,\\n  \"id\": \"3df08dae-fa7d-471e-bf8a-54d356188d2b\",\\n  \"activities\": [\\n    {\\n      \"id\": \"bdbb8fd8-571b-4838-908a-62cc82ef082e\",\\n      \"name\": \"dataflow\",\\n      \"blocks\": [\\n        {\\n          \"id\": \"901e54d8-d43f-412b-bbc2-adc4d612a426\",\\n          \"type\": \"Microsoft.DPrep.GetFilesBlock\",\\n          \"arguments\": {\\n            \"path\": {\\n              \"target\": 1,\\n              \"resourceDetails\": [\\n                {\\n                  \"path\": \"https://dpreptestfiles.blob.core.windows.net/testfiles/read_csv_duplicate_headers.csv\",\\n                  \"sas\": null,\\n                  \"storageAccountName\": null,\\n                  \"storageAccountKey\": null\\n                }\\n              ]\\n            }\\n          },\\n          \"localData\": {},\\n          \"isEnabled\": true,\\n          \"name\": null,\\n          \"annotation\": null\\n        },\\n        {\\n          \"id\": \"88841c63-00bb-4c3a-997d-4fdc8260dddb\",\\n          \"type\": \"Microsoft.DPrep.ParseDelimitedBlock\",\\n          \"arguments\": {\\n            \"columnHeadersMode\": 3,\\n            \"fileEncoding\": 0,\\n            \"handleQuotedLineBreaks\": false,\\n            \"preview\": false,\\n            \"separator\": \",\",\\n            \"skipRows\": 0,\\n            \"skipRowsMode\": 0\\n          },\\n          \"localData\": {},\\n          \"isEnabled\": true,\\n          \"name\": null,\\n          \"annotation\": null\\n        },\\n        {\\n          \"id\": \"c37161ef-5078-44bf-8a0a-d40fc828550d\",\\n          \"type\": \"Microsoft.DPrep.DropColumnsBlock\",\\n          \"arguments\": {\\n            \"columns\": {\\n              \"type\": 0,\\n              \"details\": {\\n                \"selectedColumns\": [\\n                  \"Path\"\\n                ]\\n              }\\n            }\\n          },\\n          \"localData\": {},\\n          \"isEnabled\": true,\\n          \"name\": null,\\n          \"annotation\": null\\n        }\\n      ],\\n      \"inspectors\": []\\n    }\\n  ],\\n  \"runConfigurations\": []\\n}'"
      ]
     },
     "execution_count": 2,
     "metadata": {},
     "output_type": "execute_result"
    }
   ],
   "source": [
    "# save Package to JSON string\n",
    "json_str = pkg.to_json()\n",
    "json_str"
   ]
  },
  {
   "cell_type": "code",
   "execution_count": 3,
   "metadata": {},
   "outputs": [],
   "source": [
    "# load Package from JSON string\n",
    "pkg_loaded = dprep.Package.from_json(json_str)\n",
    "df_loaded = pkg_loaded.dataflows[0]"
   ]
  }
 ],
 "metadata": {
  "kernelspec": {
   "display_name": "Python 3",
   "language": "python",
   "name": "python3"
  },
  "language_info": {
   "codemirror_mode": {
    "name": "ipython",
    "version": 3
   },
   "file_extension": ".py",
   "mimetype": "text/x-python",
   "name": "python",
   "nbconvert_exporter": "python",
   "pygments_lexer": "ipython3",
   "version": "3.6.4"
  }
 },
 "nbformat": 4,
 "nbformat_minor": 2
}
